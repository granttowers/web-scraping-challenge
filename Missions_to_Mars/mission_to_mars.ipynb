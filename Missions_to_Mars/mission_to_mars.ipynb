{
 "cells": [
  {
   "cell_type": "code",
   "execution_count": 16,
   "metadata": {},
   "outputs": [],
   "source": [
    "# Dependencies\n",
    "from bs4 import BeautifulSoup\n",
    "import requests\n",
    "from splinter import Browser\n",
    "from bs4 import BeautifulSoup\n",
    "import time\n",
    "from webdriver_manager.chrome import ChromeDriverManager\n",
    "import pandas as pd\n",
    "import pymongo"
   ]
  },
  {
   "cell_type": "code",
   "execution_count": 17,
   "metadata": {},
   "outputs": [
    {
     "name": "stdout",
     "output_type": "stream",
     "text": [
      "\n"
     ]
    },
    {
     "name": "stderr",
     "output_type": "stream",
     "text": [
      "[WDM] - ====== WebDriver manager ======\n",
      "[WDM] - Current google-chrome version is 102.0.5005\n",
      "[WDM] - Get LATEST chromedriver version for 102.0.5005 google-chrome\n",
      "[WDM] - Driver [C:\\Users\\Nino\\.wdm\\drivers\\chromedriver\\win32\\102.0.5005.61\\chromedriver.exe] found in cache\n"
     ]
    }
   ],
   "source": [
    "# Add splinter functions\n",
    "executable_path = {'executable_path': ChromeDriverManager().install()}\n",
    "browser = Browser('chrome', **executable_path, headless=False)"
   ]
  },
  {
   "cell_type": "code",
   "execution_count": 20,
   "metadata": {},
   "outputs": [
    {
     "name": "stdout",
     "output_type": "stream",
     "text": [
      "InSight's 'Mole' Team Peers into the Pit\n",
      "Efforts to save the heat probe continue.\n"
     ]
    }
   ],
   "source": [
    "# Step 1a - Scraping - NASA Mars News\n",
    "# Visit Page and add wait time to ensure page loads correctly\n",
    "url1 = 'https://redplanetscience.com/'\n",
    "browser.visit(url1)\n",
    "time.sleep(2)\n",
    "\n",
    "# Convert the browser HTML to a soup object\n",
    "soup = BeautifulSoup(browser.html, 'html.parser')\n",
    "\n",
    "# Drill down into the html tags you want to scrape\n",
    "results = soup.find('div', class_=\"list_text\").text\n",
    "\n",
    "# # scrape the article header \n",
    "news_title = soup.find('div', class_=\"content_title\").text\n",
    "news_p = soup.find('div', class_=\"article_teaser_body\").text\n",
    "\n",
    "print(news_title)\n",
    "print(news_p)"
   ]
  },
  {
   "cell_type": "code",
   "execution_count": 25,
   "metadata": {},
   "outputs": [
    {
     "name": "stdout",
     "output_type": "stream",
     "text": [
      "https://spaceimages-mars.com/image/featured/mars2.jpg\n"
     ]
    }
   ],
   "source": [
    "# Step 1b - JPL Mars Space Images - Featured Image\n",
    "# Visit the url for the Featured Space Image page [here](https://spaceimages-mars.com).\n",
    "url2 = 'https://spaceimages-mars.com/'\n",
    "browser.visit(url2)\n",
    "time.sleep(2)\n",
    "\n",
    "# Click the button to view full image\n",
    "fullimageclick = browser.find_by_tag(\"button\")[1].click()\n",
    "\n",
    "soup = BeautifulSoup(browser.html, 'html.parser')\n",
    "\n",
    "# Use splinter to navigate the site and find the image url for the current Featured Mars Image and assign the url string to a variable called `featured_image_url`.\n",
    "featureimage = soup.find('img', class_=\"fancybox-image\").get(\"src\")\n",
    "\n",
    "# Make sure to find the image url to the full size `.jpg` image.\n",
    "featured_image_url = \"https://spaceimages-mars.com/\" + featureimage\n",
    "\n",
    "# Print result - Make sure to save a complete url string for this image.\n",
    "print(featured_image_url)"
   ]
  },
  {
   "cell_type": "code",
   "execution_count": 22,
   "metadata": {},
   "outputs": [
    {
     "name": "stdout",
     "output_type": "stream",
     "text": [
      "<table border=\"1\" class=\"dataframe\">  <thead>    <tr style=\"text-align: right;\">      <th></th>      <th>Mars</th>      <th>Earth</th>    </tr>    <tr>      <th>Descriptor</th>      <th></th>      <th></th>    </tr>  </thead>  <tbody>    <tr>      <th>Diameter:</th>      <td>6,779 km</td>      <td>12,742 km</td>    </tr>    <tr>      <th>Mass:</th>      <td>6.39 × 10^23 kg</td>      <td>5.97 × 10^24 kg</td>    </tr>    <tr>      <th>Moons:</th>      <td>2</td>      <td>1</td>    </tr>    <tr>      <th>Distance from Sun:</th>      <td>227,943,824 km</td>      <td>149,598,262 km</td>    </tr>    <tr>      <th>Length of Year:</th>      <td>687 Earth days</td>      <td>365.24 days</td>    </tr>    <tr>      <th>Temperature:</th>      <td>-87 to -5 °C</td>      <td>-88 to 58°C</td>    </tr>  </tbody></table>\n"
     ]
    }
   ],
   "source": [
    "# Step 1c - Mars Facts\n",
    "# Visit the Mars Facts webpage [here](https://galaxyfacts-mars.com) and use Pandas to scrape the table containing facts about the planet including Diameter, Mass, etc.\n",
    "\n",
    "url3 = \"https://galaxyfacts-mars.com\"\n",
    "table = pd.read_html(url3)\n",
    "\n",
    "# Find and import the new table from webpage\n",
    "mars_df = table[0]\n",
    "mars_df\n",
    "\n",
    "# Cleanup column names\n",
    "cols = list(mars_df.columns)\n",
    "cols[0] = \"Descriptor\"\n",
    "cols[1] = \"Mars\"\n",
    "cols[2] = \"Earth\"\n",
    "\n",
    "# Update the Dataframe and move item column to index\n",
    "mars_df.columns = cols\n",
    "mars_df = mars_df.iloc[1:]\n",
    "mars_df.set_index('Descriptor', inplace=True)\n",
    "\n",
    "# Convert table to HTML and remove additional lines appear in the HTML\n",
    "html_table = mars_df.to_html()\n",
    "html_table = html_table.replace('\\n', '')\n",
    "\n",
    "# Print result\n",
    "print(html_table)"
   ]
  },
  {
   "cell_type": "code",
   "execution_count": 27,
   "metadata": {},
   "outputs": [
    {
     "data": {
      "text/plain": [
       "[{'title': 'Cerberus Hemisphere Enhanced',\n",
       "  'img_url': 'https://marshemispheres.com/images/full.jpg'},\n",
       " {'title': 'Schiaparelli Hemisphere Enhanced',\n",
       "  'img_url': 'https://marshemispheres.com/images/schiaparelli_enhanced-full.jpg'},\n",
       " {'title': 'Syrtis Major Hemisphere Enhanced',\n",
       "  'img_url': 'https://marshemispheres.com/images/syrtis_major_enhanced-full.jpg'},\n",
       " {'title': 'Valles Marineris Hemisphere Enhanced',\n",
       "  'img_url': 'https://marshemispheres.com/images/valles_marineris_enhanced-full.jpg'}]"
      ]
     },
     "execution_count": 27,
     "metadata": {},
     "output_type": "execute_result"
    }
   ],
   "source": [
    "# Step 1d - Mars Hemispheres\n",
    "\n",
    "# Visit the url for the Featured Space Image page [here](https://spaceimages-mars.com).\n",
    "url4 = 'https://marshemispheres.com/'\n",
    "browser.visit(url4)\n",
    "time.sleep(2)\n",
    "\n",
    "# Create a master  list to store the overall data \n",
    "hemisphere_image_urls = []\n",
    "\n",
    "# Add a new variable for the number of products there are\n",
    "hemisphere_count = browser.find_by_css(\"a.product-item img\")\n",
    "\n",
    "# Create a loop which occurs the number of times of \"hemisphere_count\" occurs \n",
    "for count in range(len(hemisphere_count)):\n",
    "    hemisphere = {}\n",
    "\n",
    "    # Search for the image, then click the image to get the link to the \"Sample\" image\n",
    "    browser.find_by_css(\"a.product-item img\")[count].click()\n",
    "\n",
    "    # Add dictionary labels to the two variables\n",
    "    title_dict = browser.find_by_css(\"h2.title\").text\n",
    "    image_dict = browser.find_by_text(\"Sample\").first\n",
    "\n",
    "    # Join the two lists together then append to Hemisphere list\n",
    "    hemisphere[\"title\"] = title_dict\n",
    "    hemisphere[\"img_url\"] = image_dict[\"href\"]\n",
    "    hemisphere_image_urls.append(hemisphere)\n",
    "\n",
    "    # Send the brower back, to repeat the process\n",
    "    browser.back()\n",
    "\n",
    "# Print result\n",
    "print(hemisphere_image_urls)"
   ]
  },
  {
   "cell_type": "code",
   "execution_count": null,
   "metadata": {},
   "outputs": [],
   "source": [
    "browser.quit()"
   ]
  }
 ],
 "metadata": {
  "interpreter": {
   "hash": "9fde4f940a9e5c943f8a9bdeece52e458b451a59759347f0190a460120c61745"
  },
  "kernelspec": {
   "display_name": "Python 3.6.10 ('PythonData')",
   "language": "python",
   "name": "python3"
  },
  "language_info": {
   "codemirror_mode": {
    "name": "ipython",
    "version": 3
   },
   "file_extension": ".py",
   "mimetype": "text/x-python",
   "name": "python",
   "nbconvert_exporter": "python",
   "pygments_lexer": "ipython3",
   "version": "3.6.10"
  },
  "varInspector": {
   "cols": {
    "lenName": 16,
    "lenType": 16,
    "lenVar": 40
   },
   "kernels_config": {
    "python": {
     "delete_cmd_postfix": "",
     "delete_cmd_prefix": "del ",
     "library": "var_list.py",
     "varRefreshCmd": "print(var_dic_list())"
    },
    "r": {
     "delete_cmd_postfix": ") ",
     "delete_cmd_prefix": "rm(",
     "library": "var_list.r",
     "varRefreshCmd": "cat(var_dic_list()) "
    }
   },
   "types_to_exclude": [
    "module",
    "function",
    "builtin_function_or_method",
    "instance",
    "_Feature"
   ],
   "window_display": false
  }
 },
 "nbformat": 4,
 "nbformat_minor": 2
}
